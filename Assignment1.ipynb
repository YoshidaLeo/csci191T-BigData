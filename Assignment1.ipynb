{
 "cells": [
  {
   "cell_type": "markdown",
   "metadata": {},
   "source": [
    "# Assignment1"
   ]
  },
  {
   "cell_type": "code",
   "execution_count": 1,
   "metadata": {},
   "outputs": [
    {
     "data": {
      "text/plain": [
       "'/home/leonardo/Documents/CSCI191T'"
      ]
     },
     "execution_count": 1,
     "metadata": {},
     "output_type": "execute_result"
    }
   ],
   "source": [
    "import pandas as pd\n",
    "import numpy as np\n",
    "import matplotlib.pyplot as plt\n",
    "import os\n",
    "import re\n",
    "os.getcwd()"
   ]
  },
  {
   "cell_type": "code",
   "execution_count": 2,
   "metadata": {},
   "outputs": [
    {
     "name": "stderr",
     "output_type": "stream",
     "text": [
      "/home/leonardo/anaconda3/lib/python3.7/site-packages/IPython/core/interactiveshell.py:3058: DtypeWarning: Columns (1) have mixed types. Specify dtype option on import or set low_memory=False.\n",
      "  interactivity=interactivity, compiler=compiler, result=result)\n"
     ]
    }
   ],
   "source": [
    "os.chdir(\"/home/leonardo/Documents/CSCI191T/csv/assignment1\")\n",
    "# Load DataSets\n",
    "vehicle_delay = pd.read_csv(\"caltrans_annual_vehicle_hours_of_delay_at_35_miles_per_hour___vehicle_miles_traveled_2017.csv\")\n",
    "water_quality = pd.read_csv(\"stations.csv\")\n",
    "drinking_water = pd.read_csv(\"uw_supplier_data010720.csv\")\n",
    "fuel_type = pd.read_csv(\"vehicle-fuel-type-count-by-zip-code.csv\")\n",
    "\n",
    "economic_growth = pd.read_csv(\"economic_growth_over_the_past_10_years.csv\")\n",
    "pop_density = (\"population_density_per_square_km.csv\")"
   ]
  },
  {
   "cell_type": "markdown",
   "metadata": {},
   "source": [
    "### Vehicle Delay DataSet"
   ]
  },
  {
   "cell_type": "code",
   "execution_count": 3,
   "metadata": {},
   "outputs": [
    {
     "data": {
      "text/html": [
       "<div>\n",
       "<style scoped>\n",
       "    .dataframe tbody tr th:only-of-type {\n",
       "        vertical-align: middle;\n",
       "    }\n",
       "\n",
       "    .dataframe tbody tr th {\n",
       "        vertical-align: top;\n",
       "    }\n",
       "\n",
       "    .dataframe thead th {\n",
       "        text-align: right;\n",
       "    }\n",
       "</style>\n",
       "<table border=\"1\" class=\"dataframe\">\n",
       "  <thead>\n",
       "    <tr style=\"text-align: right;\">\n",
       "      <th></th>\n",
       "      <th>Route Number</th>\n",
       "      <th>Route Suffix</th>\n",
       "      <th>County</th>\n",
       "      <th>Vehicle Hours of Delay (VHD) Rank</th>\n",
       "      <th>Annual Vehicle Hours of Delay (VHD) at 35 miles per hour (mph)</th>\n",
       "      <th>Annual Vehicle Miles Traveled (VMT)</th>\n",
       "      <th>Number of Incidents</th>\n",
       "      <th>Incidents/ Day</th>\n",
       "      <th>Incidents/ million VMT</th>\n",
       "    </tr>\n",
       "  </thead>\n",
       "  <tbody>\n",
       "    <tr>\n",
       "      <td>0</td>\n",
       "      <td>99</td>\n",
       "      <td>NaN</td>\n",
       "      <td>BUT</td>\n",
       "      <td>1</td>\n",
       "      <td>7372</td>\n",
       "      <td>59973595</td>\n",
       "      <td>834</td>\n",
       "      <td>2.28</td>\n",
       "      <td>13.91</td>\n",
       "    </tr>\n",
       "    <tr>\n",
       "      <td>1</td>\n",
       "      <td>50</td>\n",
       "      <td>NaN</td>\n",
       "      <td>ED</td>\n",
       "      <td>2</td>\n",
       "      <td>34070</td>\n",
       "      <td>614933130</td>\n",
       "      <td>1741</td>\n",
       "      <td>4.77</td>\n",
       "      <td>2.83</td>\n",
       "    </tr>\n",
       "    <tr>\n",
       "      <td>2</td>\n",
       "      <td>80</td>\n",
       "      <td>NaN</td>\n",
       "      <td>NEV</td>\n",
       "      <td>3</td>\n",
       "      <td>36132</td>\n",
       "      <td>522576590</td>\n",
       "      <td>1781</td>\n",
       "      <td>4.88</td>\n",
       "      <td>3.41</td>\n",
       "    </tr>\n",
       "    <tr>\n",
       "      <td>3</td>\n",
       "      <td>65</td>\n",
       "      <td>NaN</td>\n",
       "      <td>PLA</td>\n",
       "      <td>4</td>\n",
       "      <td>149952</td>\n",
       "      <td>311279662</td>\n",
       "      <td>1029</td>\n",
       "      <td>2.82</td>\n",
       "      <td>3.31</td>\n",
       "    </tr>\n",
       "    <tr>\n",
       "      <td>4</td>\n",
       "      <td>80</td>\n",
       "      <td>NaN</td>\n",
       "      <td>PLA</td>\n",
       "      <td>5</td>\n",
       "      <td>210066</td>\n",
       "      <td>1430481526</td>\n",
       "      <td>4727</td>\n",
       "      <td>12.95</td>\n",
       "      <td>3.30</td>\n",
       "    </tr>\n",
       "  </tbody>\n",
       "</table>\n",
       "</div>"
      ],
      "text/plain": [
       "   Route Number Route Suffix County  Vehicle Hours of Delay (VHD) Rank  \\\n",
       "0            99          NaN    BUT                                  1   \n",
       "1            50          NaN     ED                                  2   \n",
       "2            80          NaN    NEV                                  3   \n",
       "3            65          NaN    PLA                                  4   \n",
       "4            80          NaN    PLA                                  5   \n",
       "\n",
       "  Annual Vehicle Hours of Delay (VHD) at 35 miles per hour (mph)  \\\n",
       "0                                               7372               \n",
       "1                                              34070               \n",
       "2                                              36132               \n",
       "3                                             149952               \n",
       "4                                             210066               \n",
       "\n",
       "   Annual Vehicle Miles Traveled (VMT)  Number of Incidents   Incidents/ Day  \\\n",
       "0                             59973595                   834            2.28   \n",
       "1                            614933130                  1741            4.77   \n",
       "2                            522576590                  1781            4.88   \n",
       "3                            311279662                  1029            2.82   \n",
       "4                           1430481526                  4727           12.95   \n",
       "\n",
       "   Incidents/ million VMT  \n",
       "0                   13.91  \n",
       "1                    2.83  \n",
       "2                    3.41  \n",
       "3                    3.31  \n",
       "4                    3.30  "
      ]
     },
     "execution_count": 3,
     "metadata": {},
     "output_type": "execute_result"
    }
   ],
   "source": [
    "vehicle_delay.head()\n"
   ]
  },
  {
   "cell_type": "code",
   "execution_count": 4,
   "metadata": {},
   "outputs": [],
   "source": [
    "vehicle_delay = vehicle_delay.drop([\"Route Suffix\", \"County\",\"Vehicle Hours of Delay (VHD) Rank\"], axis=1)\n",
    "vehicle_delay = vehicle_delay.sort_values(by=[\"Route Number\"])"
   ]
  },
  {
   "cell_type": "code",
   "execution_count": 5,
   "metadata": {},
   "outputs": [],
   "source": [
    "vehicle_delay = vehicle_delay.fillna(0)\n",
    "vehicle_delay.iloc[:,1] = [i if '-' not in i else 0 for i in vehicle_delay.iloc[:,1]]\n",
    "vehicle_delay.iloc[:,3] = [i if '-' not in i else 0 for i in vehicle_delay.iloc[:,3]]"
   ]
  },
  {
   "cell_type": "code",
   "execution_count": 6,
   "metadata": {},
   "outputs": [
    {
     "data": {
      "text/html": [
       "<div>\n",
       "<style scoped>\n",
       "    .dataframe tbody tr th:only-of-type {\n",
       "        vertical-align: middle;\n",
       "    }\n",
       "\n",
       "    .dataframe tbody tr th {\n",
       "        vertical-align: top;\n",
       "    }\n",
       "\n",
       "    .dataframe thead th {\n",
       "        text-align: right;\n",
       "    }\n",
       "</style>\n",
       "<table border=\"1\" class=\"dataframe\">\n",
       "  <thead>\n",
       "    <tr style=\"text-align: right;\">\n",
       "      <th></th>\n",
       "      <th>Route Number</th>\n",
       "      <th>Annual Vehicle Hours of Delay (VHD) at 35 miles per hour (mph)</th>\n",
       "      <th>Annual Vehicle Miles Traveled (VMT)</th>\n",
       "      <th>Number of Incidents</th>\n",
       "      <th>Incidents/ Day</th>\n",
       "      <th>Incidents/ million VMT</th>\n",
       "    </tr>\n",
       "  </thead>\n",
       "  <tbody>\n",
       "    <tr>\n",
       "      <td>74</td>\n",
       "      <td>1</td>\n",
       "      <td>732800</td>\n",
       "      <td>639600069</td>\n",
       "      <td>1569</td>\n",
       "      <td>4.30</td>\n",
       "      <td>2.45</td>\n",
       "    </tr>\n",
       "    <tr>\n",
       "      <td>69</td>\n",
       "      <td>1</td>\n",
       "      <td>220016</td>\n",
       "      <td>461705156</td>\n",
       "      <td>1296</td>\n",
       "      <td>3.55</td>\n",
       "      <td>2.81</td>\n",
       "    </tr>\n",
       "    <tr>\n",
       "      <td>55</td>\n",
       "      <td>1</td>\n",
       "      <td>7265</td>\n",
       "      <td>65635150</td>\n",
       "      <td>11</td>\n",
       "      <td>0.03</td>\n",
       "      <td>0.17</td>\n",
       "    </tr>\n",
       "    <tr>\n",
       "      <td>165</td>\n",
       "      <td>1</td>\n",
       "      <td>51</td>\n",
       "      <td>94972354</td>\n",
       "      <td>0</td>\n",
       "      <td>0.00</td>\n",
       "      <td>0.00</td>\n",
       "    </tr>\n",
       "    <tr>\n",
       "      <td>94</td>\n",
       "      <td>2</td>\n",
       "      <td>410015</td>\n",
       "      <td>488397479</td>\n",
       "      <td>16</td>\n",
       "      <td>0.04</td>\n",
       "      <td>0.03</td>\n",
       "    </tr>\n",
       "  </tbody>\n",
       "</table>\n",
       "</div>"
      ],
      "text/plain": [
       "     Route Number  \\\n",
       "74              1   \n",
       "69              1   \n",
       "55              1   \n",
       "165             1   \n",
       "94              2   \n",
       "\n",
       "    Annual Vehicle Hours of Delay (VHD) at 35 miles per hour (mph)  \\\n",
       "74                                              732800               \n",
       "69                                              220016               \n",
       "55                                                7265               \n",
       "165                                                 51               \n",
       "94                                              410015               \n",
       "\n",
       "     Annual Vehicle Miles Traveled (VMT)  Number of Incidents   \\\n",
       "74                             639600069                  1569   \n",
       "69                             461705156                  1296   \n",
       "55                              65635150                    11   \n",
       "165                             94972354                     0   \n",
       "94                             488397479                    16   \n",
       "\n",
       "     Incidents/ Day  Incidents/ million VMT  \n",
       "74             4.30                    2.45  \n",
       "69             3.55                    2.81  \n",
       "55             0.03                    0.17  \n",
       "165            0.00                    0.00  \n",
       "94             0.04                    0.03  "
      ]
     },
     "execution_count": 6,
     "metadata": {},
     "output_type": "execute_result"
    }
   ],
   "source": [
    "vehicle_delay.head()"
   ]
  },
  {
   "cell_type": "code",
   "execution_count": 7,
   "metadata": {},
   "outputs": [
    {
     "data": {
      "text/html": [
       "<div>\n",
       "<style scoped>\n",
       "    .dataframe tbody tr th:only-of-type {\n",
       "        vertical-align: middle;\n",
       "    }\n",
       "\n",
       "    .dataframe tbody tr th {\n",
       "        vertical-align: top;\n",
       "    }\n",
       "\n",
       "    .dataframe thead th {\n",
       "        text-align: right;\n",
       "    }\n",
       "</style>\n",
       "<table border=\"1\" class=\"dataframe\">\n",
       "  <thead>\n",
       "    <tr style=\"text-align: right;\">\n",
       "      <th></th>\n",
       "      <th>Route</th>\n",
       "      <th>Annual VHD 35mph</th>\n",
       "      <th>Annual VMT</th>\n",
       "      <th>Num Incidents</th>\n",
       "      <th>Incidents/Day</th>\n",
       "      <th>Incidents/Million VMT</th>\n",
       "    </tr>\n",
       "  </thead>\n",
       "  <tbody>\n",
       "    <tr>\n",
       "      <td>0</td>\n",
       "      <td>1.0</td>\n",
       "      <td>960132.0</td>\n",
       "      <td>1.261913e+09</td>\n",
       "      <td>2876.0</td>\n",
       "      <td>7.0</td>\n",
       "      <td>4.0</td>\n",
       "    </tr>\n",
       "    <tr>\n",
       "      <td>0</td>\n",
       "      <td>2.0</td>\n",
       "      <td>410015.0</td>\n",
       "      <td>4.883975e+08</td>\n",
       "      <td>16.0</td>\n",
       "      <td>0.0</td>\n",
       "      <td>0.0</td>\n",
       "    </tr>\n",
       "    <tr>\n",
       "      <td>0</td>\n",
       "      <td>4.0</td>\n",
       "      <td>1184088.0</td>\n",
       "      <td>1.597401e+09</td>\n",
       "      <td>5094.0</td>\n",
       "      <td>13.0</td>\n",
       "      <td>5.0</td>\n",
       "    </tr>\n",
       "    <tr>\n",
       "      <td>0</td>\n",
       "      <td>5.0</td>\n",
       "      <td>14836434.0</td>\n",
       "      <td>1.714928e+10</td>\n",
       "      <td>60742.0</td>\n",
       "      <td>162.0</td>\n",
       "      <td>30.0</td>\n",
       "    </tr>\n",
       "    <tr>\n",
       "      <td>0</td>\n",
       "      <td>8.0</td>\n",
       "      <td>744040.0</td>\n",
       "      <td>1.337021e+09</td>\n",
       "      <td>6414.0</td>\n",
       "      <td>17.0</td>\n",
       "      <td>4.0</td>\n",
       "    </tr>\n",
       "  </tbody>\n",
       "</table>\n",
       "</div>"
      ],
      "text/plain": [
       "   Route  Annual VHD 35mph    Annual VMT  Num Incidents  Incidents/Day  \\\n",
       "0    1.0          960132.0  1.261913e+09         2876.0            7.0   \n",
       "0    2.0          410015.0  4.883975e+08           16.0            0.0   \n",
       "0    4.0         1184088.0  1.597401e+09         5094.0           13.0   \n",
       "0    5.0        14836434.0  1.714928e+10        60742.0          162.0   \n",
       "0    8.0          744040.0  1.337021e+09         6414.0           17.0   \n",
       "\n",
       "   Incidents/Million VMT  \n",
       "0                    4.0  \n",
       "0                    0.0  \n",
       "0                    5.0  \n",
       "0                   30.0  \n",
       "0                    4.0  "
      ]
     },
     "execution_count": 7,
     "metadata": {},
     "output_type": "execute_result"
    }
   ],
   "source": [
    "routes = vehicle_delay[\"Route Number\"].unique()\n",
    "total_delay = pd.DataFrame(data={'Route':[],'Annual VHD 35mph':[],'Annual VMT':[],'Num Incidents':[], 'Incidents/Day':[], 'Incidents/Million VMT':[]})\n",
    "for r in routes:\n",
    "    aVHD35 = vehicle_delay[vehicle_delay['Route Number'] == r].iloc[:,1].astype(int).sum()\n",
    "    aVMT = vehicle_delay[vehicle_delay['Route Number'] == r].iloc[:,2].astype(int).sum()\n",
    "    numIncidents = vehicle_delay[vehicle_delay['Route Number'] == r].iloc[:,3].astype(int).sum()\n",
    "    incidentsPerDay = vehicle_delay[vehicle_delay['Route Number'] == r].iloc[:,4].astype(int).sum()\n",
    "    incidentsVMT = vehicle_delay[vehicle_delay['Route Number'] == r].iloc[:,5].astype(int).sum()\n",
    "\n",
    "    temp = pd.DataFrame([[r,aVHD35,aVMT,numIncidents,incidentsPerDay,incidentsVMT]], columns=['Route','Annual VHD 35mph','Annual VMT','Num Incidents', 'Incidents/Day', 'Incidents/Million VMT'])\n",
    "    total_delay = total_delay.append(temp)\n",
    "total_delay.head()"
   ]
  },
  {
   "cell_type": "code",
   "execution_count": 8,
   "metadata": {},
   "outputs": [
    {
     "data": {
      "text/plain": [
       "Text(0.5, 1.0, 'Incidents per Route')"
      ]
     },
     "execution_count": 8,
     "metadata": {},
     "output_type": "execute_result"
    },
    {
     "data": {
      "image/png": "[encoded data removed]",
      "text/plain": [
       "<Figure size 432x288 with 1 Axes>"
      ]
     },
     "metadata": {
      "needs_background": "light"
     },
     "output_type": "display_data"
    }
   ],
   "source": [
    "obj = total_delay[\"Route\"][:5]\n",
    "y_pos = np.arange(len(obj))\n",
    "plt.bar(y_pos,total_delay[\"Incidents/Day\"][:5])\n",
    "plt.xticks(y_pos, obj)\n",
    "plt.ylabel(\"Incidents per Day\")\n",
    "plt.xlabel(\"Route Number\")\n",
    "plt.title('Incidents per Route')"
   ]
  },
  {
   "cell_type": "markdown",
   "metadata": {},
   "source": [
    "### Economic Growth DataSet"
   ]
  },
  {
   "cell_type": "code",
   "execution_count": 9,
   "metadata": {},
   "outputs": [
    {
     "data": {
      "text/html": [
       "<div>\n",
       "<style scoped>\n",
       "    .dataframe tbody tr th:only-of-type {\n",
       "        vertical-align: middle;\n",
       "    }\n",
       "\n",
       "    .dataframe tbody tr th {\n",
       "        vertical-align: top;\n",
       "    }\n",
       "\n",
       "    .dataframe thead th {\n",
       "        text-align: right;\n",
       "    }\n",
       "</style>\n",
       "<table border=\"1\" class=\"dataframe\">\n",
       "  <thead>\n",
       "    <tr style=\"text-align: right;\">\n",
       "      <th></th>\n",
       "      <th>country</th>\n",
       "      <th>1960</th>\n",
       "      <th>1961</th>\n",
       "      <th>1962</th>\n",
       "      <th>1963</th>\n",
       "      <th>1964</th>\n",
       "      <th>1965</th>\n",
       "      <th>1966</th>\n",
       "      <th>1967</th>\n",
       "      <th>1968</th>\n",
       "      <th>...</th>\n",
       "      <th>1995</th>\n",
       "      <th>1996</th>\n",
       "      <th>1997</th>\n",
       "      <th>1998</th>\n",
       "      <th>1999</th>\n",
       "      <th>2000</th>\n",
       "      <th>2001</th>\n",
       "      <th>2002</th>\n",
       "      <th>2003</th>\n",
       "      <th>2004</th>\n",
       "    </tr>\n",
       "  </thead>\n",
       "  <tbody>\n",
       "    <tr>\n",
       "      <td>0</td>\n",
       "      <td>Afghanistan</td>\n",
       "      <td>NaN</td>\n",
       "      <td>NaN</td>\n",
       "      <td>NaN</td>\n",
       "      <td>NaN</td>\n",
       "      <td>NaN</td>\n",
       "      <td>NaN</td>\n",
       "      <td>NaN</td>\n",
       "      <td>NaN</td>\n",
       "      <td>NaN</td>\n",
       "      <td>...</td>\n",
       "      <td>-9.680</td>\n",
       "      <td>-9.740</td>\n",
       "      <td>-7.830</td>\n",
       "      <td>-6.700</td>\n",
       "      <td>-7.4400</td>\n",
       "      <td>-12.200</td>\n",
       "      <td>-13.800</td>\n",
       "      <td>-9.630</td>\n",
       "      <td>-6.380</td>\n",
       "      <td>-5.4900</td>\n",
       "    </tr>\n",
       "    <tr>\n",
       "      <td>1</td>\n",
       "      <td>Albania</td>\n",
       "      <td>NaN</td>\n",
       "      <td>NaN</td>\n",
       "      <td>NaN</td>\n",
       "      <td>NaN</td>\n",
       "      <td>NaN</td>\n",
       "      <td>NaN</td>\n",
       "      <td>NaN</td>\n",
       "      <td>NaN</td>\n",
       "      <td>NaN</td>\n",
       "      <td>...</td>\n",
       "      <td>NaN</td>\n",
       "      <td>NaN</td>\n",
       "      <td>NaN</td>\n",
       "      <td>NaN</td>\n",
       "      <td>NaN</td>\n",
       "      <td>-0.273</td>\n",
       "      <td>6.710</td>\n",
       "      <td>11.200</td>\n",
       "      <td>8.320</td>\n",
       "      <td>6.7200</td>\n",
       "    </tr>\n",
       "    <tr>\n",
       "      <td>2</td>\n",
       "      <td>Algeria</td>\n",
       "      <td>NaN</td>\n",
       "      <td>NaN</td>\n",
       "      <td>NaN</td>\n",
       "      <td>NaN</td>\n",
       "      <td>NaN</td>\n",
       "      <td>NaN</td>\n",
       "      <td>NaN</td>\n",
       "      <td>NaN</td>\n",
       "      <td>NaN</td>\n",
       "      <td>...</td>\n",
       "      <td>-0.246</td>\n",
       "      <td>-0.408</td>\n",
       "      <td>-0.835</td>\n",
       "      <td>-0.117</td>\n",
       "      <td>0.0587</td>\n",
       "      <td>0.324</td>\n",
       "      <td>0.336</td>\n",
       "      <td>0.188</td>\n",
       "      <td>0.988</td>\n",
       "      <td>NaN</td>\n",
       "    </tr>\n",
       "    <tr>\n",
       "      <td>3</td>\n",
       "      <td>Antigua and Barbuda</td>\n",
       "      <td>NaN</td>\n",
       "      <td>NaN</td>\n",
       "      <td>NaN</td>\n",
       "      <td>NaN</td>\n",
       "      <td>NaN</td>\n",
       "      <td>NaN</td>\n",
       "      <td>NaN</td>\n",
       "      <td>NaN</td>\n",
       "      <td>NaN</td>\n",
       "      <td>...</td>\n",
       "      <td>4.830</td>\n",
       "      <td>4.670</td>\n",
       "      <td>5.130</td>\n",
       "      <td>3.490</td>\n",
       "      <td>3.4800</td>\n",
       "      <td>2.680</td>\n",
       "      <td>2.950</td>\n",
       "      <td>3.200</td>\n",
       "      <td>2.800</td>\n",
       "      <td>NaN</td>\n",
       "    </tr>\n",
       "    <tr>\n",
       "      <td>4</td>\n",
       "      <td>Argentina</td>\n",
       "      <td>1.03</td>\n",
       "      <td>0.988</td>\n",
       "      <td>1.69</td>\n",
       "      <td>1.11</td>\n",
       "      <td>1.46</td>\n",
       "      <td>1.68</td>\n",
       "      <td>1.54</td>\n",
       "      <td>1.41</td>\n",
       "      <td>1.25</td>\n",
       "      <td>...</td>\n",
       "      <td>1.650</td>\n",
       "      <td>1.360</td>\n",
       "      <td>1.890</td>\n",
       "      <td>2.600</td>\n",
       "      <td>3.1900</td>\n",
       "      <td>3.250</td>\n",
       "      <td>1.630</td>\n",
       "      <td>-0.501</td>\n",
       "      <td>-0.350</td>\n",
       "      <td>-0.0209</td>\n",
       "    </tr>\n",
       "  </tbody>\n",
       "</table>\n",
       "<p>5 rows × 46 columns</p>\n",
       "</div>"
      ],
      "text/plain": [
       "               country  1960   1961  1962  1963  1964  1965  1966  1967  1968  \\\n",
       "0          Afghanistan   NaN    NaN   NaN   NaN   NaN   NaN   NaN   NaN   NaN   \n",
       "1              Albania   NaN    NaN   NaN   NaN   NaN   NaN   NaN   NaN   NaN   \n",
       "2              Algeria   NaN    NaN   NaN   NaN   NaN   NaN   NaN   NaN   NaN   \n",
       "3  Antigua and Barbuda   NaN    NaN   NaN   NaN   NaN   NaN   NaN   NaN   NaN   \n",
       "4            Argentina  1.03  0.988  1.69  1.11  1.46  1.68  1.54  1.41  1.25   \n",
       "\n",
       "   ...   1995   1996   1997   1998    1999    2000    2001    2002   2003  \\\n",
       "0  ... -9.680 -9.740 -7.830 -6.700 -7.4400 -12.200 -13.800  -9.630 -6.380   \n",
       "1  ...    NaN    NaN    NaN    NaN     NaN  -0.273   6.710  11.200  8.320   \n",
       "2  ... -0.246 -0.408 -0.835 -0.117  0.0587   0.324   0.336   0.188  0.988   \n",
       "3  ...  4.830  4.670  5.130  3.490  3.4800   2.680   2.950   3.200  2.800   \n",
       "4  ...  1.650  1.360  1.890  2.600  3.1900   3.250   1.630  -0.501 -0.350   \n",
       "\n",
       "     2004  \n",
       "0 -5.4900  \n",
       "1  6.7200  \n",
       "2     NaN  \n",
       "3     NaN  \n",
       "4 -0.0209  \n",
       "\n",
       "[5 rows x 46 columns]"
      ]
     },
     "execution_count": 9,
     "metadata": {},
     "output_type": "execute_result"
    }
   ],
   "source": [
    "economic_growth.head()"
   ]
  },
  {
   "cell_type": "code",
   "execution_count": 10,
   "metadata": {},
   "outputs": [],
   "source": [
    "economic_growth = economic_growth.transpose().reset_index()\n",
    "\n",
    "economic_growth.columns = economic_growth.iloc[0]\n",
    "economic_growth = economic_growth.drop([0])"
   ]
  },
  {
   "cell_type": "code",
   "execution_count": 12,
   "metadata": {},
   "outputs": [],
   "source": [
    "economic_growth = economic_growth.fillna(method=\"ffill\", axis=0)\n",
    "economic_growth = economic_growth.fillna(0)"
   ]
  },
  {
   "cell_type": "code",
   "execution_count": 13,
   "metadata": {},
   "outputs": [
    {
     "data": {
      "text/plain": [
       "<matplotlib.axes._subplots.AxesSubplot at 0x7f8f16ecc3d0>"
      ]
     },
     "execution_count": 13,
     "metadata": {},
     "output_type": "execute_result"
    },
    {
     "data": {
      "image/png": "[encoded data removed]",
      "text/plain": [
       "<Figure size 432x288 with 1 Axes>"
      ]
     },
     "metadata": {
      "needs_background": "light"
     },
     "output_type": "display_data"
    }
   ],
   "source": [
    "economic_growth.plot(x=\"country\", y=\"Brazil\")"
   ]
  },
  {
   "cell_type": "markdown",
   "metadata": {},
   "source": [
    "### Fuel Type DataSet"
   ]
  },
  {
   "cell_type": "code",
   "execution_count": 14,
   "metadata": {},
   "outputs": [],
   "source": [
    "fuel_type = fuel_type.drop(['Date', 'Make'], axis=1)"
   ]
  },
  {
   "cell_type": "code",
   "execution_count": 15,
   "metadata": {},
   "outputs": [
    {
     "data": {
      "text/html": [
       "<div>\n",
       "<style scoped>\n",
       "    .dataframe tbody tr th:only-of-type {\n",
       "        vertical-align: middle;\n",
       "    }\n",
       "\n",
       "    .dataframe tbody tr th {\n",
       "        vertical-align: top;\n",
       "    }\n",
       "\n",
       "    .dataframe thead th {\n",
       "        text-align: right;\n",
       "    }\n",
       "</style>\n",
       "<table border=\"1\" class=\"dataframe\">\n",
       "  <thead>\n",
       "    <tr style=\"text-align: right;\">\n",
       "      <th></th>\n",
       "      <th>Zip Code</th>\n",
       "      <th>Model Year</th>\n",
       "      <th>Fuel</th>\n",
       "      <th>Duty</th>\n",
       "      <th>Vehicles</th>\n",
       "    </tr>\n",
       "  </thead>\n",
       "  <tbody>\n",
       "    <tr>\n",
       "      <td>0</td>\n",
       "      <td>90000</td>\n",
       "      <td>2006</td>\n",
       "      <td>Gasoline</td>\n",
       "      <td>Light</td>\n",
       "      <td>1</td>\n",
       "    </tr>\n",
       "    <tr>\n",
       "      <td>1</td>\n",
       "      <td>90000</td>\n",
       "      <td>2014</td>\n",
       "      <td>Gasoline</td>\n",
       "      <td>Light</td>\n",
       "      <td>1</td>\n",
       "    </tr>\n",
       "    <tr>\n",
       "      <td>2</td>\n",
       "      <td>90000</td>\n",
       "      <td>2016</td>\n",
       "      <td>Gasoline</td>\n",
       "      <td>Light</td>\n",
       "      <td>1</td>\n",
       "    </tr>\n",
       "    <tr>\n",
       "      <td>3</td>\n",
       "      <td>90000</td>\n",
       "      <td>2017</td>\n",
       "      <td>Gasoline</td>\n",
       "      <td>Light</td>\n",
       "      <td>1</td>\n",
       "    </tr>\n",
       "    <tr>\n",
       "      <td>4</td>\n",
       "      <td>90000</td>\n",
       "      <td>&lt;2006</td>\n",
       "      <td>Diesel and Diesel Hybrid</td>\n",
       "      <td>Heavy</td>\n",
       "      <td>55</td>\n",
       "    </tr>\n",
       "  </tbody>\n",
       "</table>\n",
       "</div>"
      ],
      "text/plain": [
       "  Zip Code Model Year                      Fuel   Duty  Vehicles\n",
       "0    90000       2006                  Gasoline  Light         1\n",
       "1    90000       2014                  Gasoline  Light         1\n",
       "2    90000       2016                  Gasoline  Light         1\n",
       "3    90000       2017                  Gasoline  Light         1\n",
       "4    90000      <2006  Diesel and Diesel Hybrid  Heavy        55"
      ]
     },
     "execution_count": 15,
     "metadata": {},
     "output_type": "execute_result"
    }
   ],
   "source": [
    "fuel_type.head()"
   ]
  },
  {
   "cell_type": "code",
   "execution_count": 16,
   "metadata": {},
   "outputs": [
    {
     "data": {
      "text/plain": [
       "array([90000, 90001, 90002, ..., '99999', 'OOS', 'Other'], dtype=object)"
      ]
     },
     "execution_count": 16,
     "metadata": {},
     "output_type": "execute_result"
    }
   ],
   "source": [
    "fuel_type['Zip Code'].unique()"
   ]
  },
  {
   "cell_type": "code",
   "execution_count": 35,
   "metadata": {},
   "outputs": [],
   "source": [
    "total_cars = fuel_type[\"Vehicles\"].groupby(fuel_type[\"Fuel\"]).sum()"
   ]
  },
  {
   "cell_type": "code",
   "execution_count": 41,
   "metadata": {},
   "outputs": [],
   "source": [
    "total_cars = pd.DataFrame({\"Fuel Type\": total_cars.index, \"Total Cars\": total_cars.values})"
   ]
  },
  {
   "cell_type": "code",
   "execution_count": 42,
   "metadata": {},
   "outputs": [
    {
     "data": {
      "text/plain": [
       "<matplotlib.axes._subplots.AxesSubplot at 0x7f8f078d7a10>"
      ]
     },
     "execution_count": 42,
     "metadata": {},
     "output_type": "execute_result"
    },
    {
     "data": {
      "image/png": "[encoded data removed]",
      "text/plain": [
       "<Figure size 432x288 with 1 Axes>"
      ]
     },
     "metadata": {
      "needs_background": "light"
     },
     "output_type": "display_data"
    }
   ],
   "source": [
    "total_cars.plot.bar(x=\"Fuel Type\", y=\"Total Cars\")"
   ]
  },
  {
   "cell_type": "code",
   "execution_count": null,
   "metadata": {},
   "outputs": [],
   "source": []
  }
 ],
 "metadata": {
  "kernelspec": {
   "display_name": "Python 3",
   "language": "python",
   "name": "python3"
  },
  "language_info": {
   "codemirror_mode": {
    "name": "ipython",
    "version": 3
   },
   "file_extension": ".py",
   "mimetype": "text/x-python",
   "name": "python",
   "nbconvert_exporter": "python",
   "pygments_lexer": "ipython3",
   "version": "3.7.4"
  }
 },
 "nbformat": 4,
 "nbformat_minor": 2
}
